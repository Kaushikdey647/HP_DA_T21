{
 "cells": [
  {
   "cell_type": "code",
   "execution_count": 4,
   "metadata": {},
   "outputs": [],
   "source": [
    "# We have the scrapped the tables from sec.report website and stored the important ones in our database\n",
    "\n",
    "from dotenv import load_dotenv\n",
    "import requests\n",
    "import pandas as pd\n",
    "from pprint import pprint\n",
    "from bs4 import BeautifulSoup\n",
    "import pymongo,json,os\n",
    "load_dotenv()\n",
    "MONGODB_URI = os.environ['MONGODB_URI']\n",
    "client = pymongo.MongoClient(MONGODB_URI)\n",
    "db1=client['tech-meet']\n",
    "db=db1['form-data']\n",
    "database=db1['info']\n",
    "url=\"https://sec.report/CIK/\"\n",
    "headers={'user-agent':'Mozilla/5.0 (X11; Fedora; Linux x86_64) AppleWebKit/537.36 (KHTML, like Gecko) Chrome/98.0.4758.102 Safari/537.36'}\n",
    "db=list(db.find())"
   ]
  },
  {
   "cell_type": "code",
   "execution_count": 5,
   "metadata": {},
   "outputs": [
    {
     "name": "stdout",
     "output_type": "stream",
     "text": [
      "315\n"
     ]
    }
   ],
   "source": [
    "count=0\n",
    "for db2 in db:\n",
    "    count+=1\n",
    "    orig=db2\n",
    "    furl=url+str(db2['cik'])\n",
    "    htm=requests.get(furl,headers=headers)\n",
    "    if(htm.status_code==200):\n",
    "        re=pd.read_html(htm.text)\n",
    "        cnt1=0\n",
    "        cvv=True\n",
    "        info={}\n",
    "        soup=BeautifulSoup(htm.text,'lxml')\n",
    "        match=soup.find('div',class_='panel-body').text\n",
    "        db2['summary']=str(match)\n",
    "        for r in re:           \n",
    "            col=r.columns\n",
    "            if 'Form' in col:\n",
    "                continue\n",
    "            else:\n",
    "                \n",
    "                if r.shape[1]==2:\n",
    "                    cnt1+=1                  \n",
    "                if cnt1==2:\n",
    "                    \n",
    "                    for t in range(r.shape[0]):\n",
    "                        info[str(r.iloc[t,0])]=str(r.iloc[t,1])\n",
    "                if cvv and r.shape[1]==4: \n",
    "                    for t in range(r.shape[0]):\n",
    "                        info[str(r.iloc[t,1])]=str(r.iloc[t,0])\n",
    "                    cvv=False\n",
    "        db2['info']=info\n",
    "        try:                      \n",
    "            database.insert_one(db2)\n",
    "        except:\n",
    "            orig['summary']=match\n",
    "            database.insert_one(orig)\n",
    "            print(db2['cik'])\n",
    "            continue\n",
    "print(count)                    "
   ]
  },
  {
   "cell_type": "code",
   "execution_count": null,
   "metadata": {},
   "outputs": [],
   "source": []
  }
 ],
 "metadata": {
  "interpreter": {
   "hash": "31f2aee4e71d21fbe5cf8b01ff0e069b9275f58929596ceb00d14d90e3e16cd6"
  },
  "kernelspec": {
   "display_name": "Python 3.9.9 64-bit",
   "language": "python",
   "name": "python3"
  },
  "language_info": {
   "codemirror_mode": {
    "name": "ipython",
    "version": 3
   },
   "file_extension": ".py",
   "mimetype": "text/x-python",
   "name": "python",
   "nbconvert_exporter": "python",
   "pygments_lexer": "ipython3",
   "version": "3.9.9"
  },
  "orig_nbformat": 4
 },
 "nbformat": 4,
 "nbformat_minor": 2
}
